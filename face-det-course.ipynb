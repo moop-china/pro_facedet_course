{
 "cells": [
  {
   "cell_type": "markdown",
   "metadata": {},
   "source": [
    "# 基于RetinaFace的人脸检测"
   ]
  },
  {
   "cell_type": "markdown",
   "metadata": {},
   "source": [
    "## 一、综述\n",
    "\n",
    "随着深度学习技术的发展，现在人脸检测、识别任务都广泛应用深度学习模型，在精度上有了长足的进步。  \n",
    "[InsightFace](https://github.com/deepinsight/insightface/tree/master/RetinaFace)是目前深度学习领域SOTA（最先进的，State Of The Art）的人脸分析项目，其中人脸检测（和校正）由RetinaFace实现。  \n",
    "\n",
    "### 什么是检测？\n",
    "![什么是检测](img/5.png \"什么是检测\")\n",
    "\n",
    "### 神经网络如何做检测？\n",
    "![如何做检测](img/6.png \"如何做检测\")"
   ]
  },
  {
   "cell_type": "markdown",
   "metadata": {},
   "source": [
    "### 为什么要做人脸检测？\n",
    "\n",
    "工业级的人脸识别需要包含4个步骤：  \n",
    "   * 人脸检测  \n",
    "   * 人脸矫正  \n",
    "   * 姿态过滤  \n",
    "   * 人脸识别  \n",
    "   \n",
    "![人脸识别的流程](img/3.png \"人脸识别的流程\")\n",
    "\n",
    "人脸检测是人脸识别的第一步，这篇教程的目标就是基于RetinaFace预训练模型的人脸检测。  "
   ]
  },
  {
   "cell_type": "markdown",
   "metadata": {},
   "source": [
    "## 二、环境\n",
    "\n",
    "InsightFace是基于MXNet框架的，我们的环境使用Python 2.7版本。**请从Notebook Kernel菜单中切换Kernal到mxnet_python2环境。**  \n",
    "RetinaFace是检测模型，随模型提供了NMS（非极大值抑制，Non Maximum Suppression）的实现。线下环境中需要安装Cython并执行make进行编译，MOOP线上环境的镜像中已经完成了这一步骤，可以直接导入RetinaFace进行检测。  \n",
    "由于只需要模型前向推断，我们可以用CPU进行计算，对计算机硬件的需求相对比较低。  \n",
    "RetinaFace的[Github页面](https://github.com/deepinsight/insightface/tree/master/RetinaFace)提供了预训练模型，线下环境可以下载并按照说明放置在项目目录中。MOOP环境已经完成了预训练模型的配置，选用的是RetinaFace-R50模型参数，官方发布的参数可以在WiderFace Hard测试集上取得90.4的mAP。  "
   ]
  },
  {
   "cell_type": "code",
   "execution_count": null,
   "metadata": {},
   "outputs": [],
   "source": [
    "import os\n",
    "import sys\n",
    "import random\n",
    "import datetime\n",
    "from multiprocessing import Process\n",
    "\n",
    "import cv2\n",
    "import numpy as np\n",
    "from skimage import transform\n",
    "import matplotlib.pyplot as plt\n",
    "%matplotlib inline \n",
    "\n",
    "sys.path.append(os.path.join(os.path.abspath(''), 'RetinaFace'))\n",
    "from retinaface import RetinaFace"
   ]
  },
  {
   "cell_type": "markdown",
   "metadata": {},
   "source": [
    "数据的准备，我们已经在data/input下准备了图片：  "
   ]
  },
  {
   "cell_type": "code",
   "execution_count": null,
   "metadata": {},
   "outputs": [],
   "source": [
    "input_picure_path = os.path.join(os.path.abspath(''), 'data/input')"
   ]
  },
  {
   "cell_type": "markdown",
   "metadata": {},
   "source": [
    "定义图片处理的Helper：  "
   ]
  },
  {
   "cell_type": "code",
   "execution_count": null,
   "metadata": {},
   "outputs": [],
   "source": [
    "def get_img_scale(img_shape, scales):\n",
    "    target_size, max_size = scales\n",
    "    \n",
    "    img_size_min = np.min(img_shape[0:2])\n",
    "    img_size_max = np.max(img_shape[0:2])\n",
    "    \n",
    "    img_scale = float(target_size) / float(img_size_min)\n",
    "    \n",
    "    if np.round(img_scale * img_size_max) > max_size:\n",
    "        img_scale = float(max_size) / float(img_size_max)\n",
    "        \n",
    "    return img_scale\n",
    "\n",
    "def draw_on_img(img, faces, landmarks=None):\n",
    "    for i in range(faces.shape[0]):\n",
    "        box = faces[i].astype(np.int)\n",
    "        \n",
    "        color = (0, 0, 255)\n",
    "        cv2.rectangle(img, (box[0], box[1]), (box[2], box[3]), color, 2)\n",
    "        \n",
    "        if landmarks is not None:\n",
    "            landmark5 = landmarks[i].astype(np.int)\n",
    "            \n",
    "            for l in range(landmark5.shape[0]):\n",
    "                color = (0, 255, 0)\n",
    "                cv2.circle(img, (landmark5[l][0], landmark5[l][1]), 1, color, 2)\n",
    "                \n",
    "    plt.imshow(img[..., ::-1])\n",
    "    plt.show()"
   ]
  },
  {
   "cell_type": "markdown",
   "metadata": {},
   "source": [
    "## 三、模型准备\n",
    "\n",
    "接下来需要设置参数并初始化检测模型。  \n",
    "要注意当gpu_id小于0的时候，MxNet会自动选用CPU进行计算。  \n",
    "另外RetinaFace最后一个参数用于选择[Anchor](https://www.quora.com/What-does-an-anchor-mean-in-object-detection)的大小，会影响不同尺寸人脸检测的精度。  "
   ]
  },
  {
   "cell_type": "code",
   "execution_count": null,
   "metadata": {},
   "outputs": [],
   "source": [
    "# consts\n",
    "score_threshold = 0.94\n",
    "image_scales = [720, 1024]\n",
    "\n",
    "# init detector - mxnet selects cpu if gpu_id < 0\n",
    "gpu_id = -1\n",
    "\n",
    "detector = RetinaFace('../../../share/data/pro_face_recognition/model/R50', 0, gpu_id, 'net3')"
   ]
  },
  {
   "cell_type": "markdown",
   "metadata": {},
   "source": [
    "## 四、检测"
   ]
  },
  {
   "cell_type": "code",
   "execution_count": null,
   "metadata": {},
   "outputs": [],
   "source": [
    "# list input pics\n",
    "entries = os.listdir(input_picure_path)\n",
    "\n",
    "for entry in entries:\n",
    "    arr = entry.split('.')\n",
    "\n",
    "    if len(arr) > 1 and arr[1] == 'jpg':\n",
    "        # read image\n",
    "        img_path = os.path.join(input_picure_path, entry)\n",
    "        img = cv2.imread(img_path)\n",
    "\n",
    "        img_scale = get_img_scale(img.shape, image_scales)\n",
    "        \n",
    "        start_time = datetime.datetime.now()\n",
    "        \n",
    "        faces, landmarks = detector.detect(\n",
    "            img,\n",
    "            score_threshold,\n",
    "            scales=[img_scale],\n",
    "            do_flip=False\n",
    "        )\n",
    "        \n",
    "        end_time = datetime.datetime.now()\n",
    "        time_diff = end_time - start_time\n",
    "        \n",
    "        print('{}: spent {} sec(s), detected {} face(s)'.format(\n",
    "            entry,\n",
    "            time_diff.total_seconds(),\n",
    "            faces.shape[0]\n",
    "        ))\n",
    "        \n",
    "        draw_on_img(img, faces, landmarks=landmarks)"
   ]
  },
  {
   "cell_type": "markdown",
   "metadata": {},
   "source": [
    "## 五、课堂练习  \n",
    "1. 在人脸检测中，我们得到了人脸框和五个关键点，它们的数据格式是怎样的呢？请在下方代码框内，编写程序打印输出它们。  \n",
    "提示：修改检测这节代码中，Print函数输出的内容，对于Python不熟悉的同学，可以在线查看[Python Print文档](https://docs.python.org/zh-cn/3.7/library/functions.html#print)。  \n",
    "\n",
    "2. 试着上传自己的照片并进行人脸检测吧！  \n",
    "提示：我们的数据保存在data/input，需要利用jupyter notebook的文件浏览功能上传图片。  "
   ]
  }
 ],
 "metadata": {
  "kernelspec": {
   "display_name": "Python (mxnet_python2)",
   "language": "python",
   "name": "mxnet_python2"
  },
  "language_info": {
   "codemirror_mode": {
    "name": "ipython",
    "version": 2
   },
   "file_extension": ".py",
   "mimetype": "text/x-python",
   "name": "python",
   "nbconvert_exporter": "python",
   "pygments_lexer": "ipython2",
   "version": "2.7.15"
  }
 },
 "nbformat": 4,
 "nbformat_minor": 2
}
